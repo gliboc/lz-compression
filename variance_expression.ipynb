{
 "cells": [
  {
   "cell_type": "markdown",
   "metadata": {},
   "source": [
    "# Calcul de V_n pour un exemple"
   ]
  },
  {
   "cell_type": "markdown",
   "metadata": {},
   "source": [
    "$$ V_n = \\frac{1}{h^3} \\left( -\\frac{\\beta}{\\omega} \n",
    "                - \\frac{2}{\\omega} \\pi \\dot{Q}^\\star \\psi - h^2 \\right) $$"
   ]
  },
  {
   "cell_type": "code",
   "execution_count": 1,
   "metadata": {},
   "outputs": [],
   "source": [
    "import numpy as np\n",
    "\n",
    "M = np.array([[0.5, 0.5],\n",
    "     [0.5, 0.5]])  # Markov chain\n",
    "\n",
    "pi_0, pi_1 = 0.5, 0.5  # stationary distrib"
   ]
  },
  {
   "cell_type": "markdown",
   "metadata": {},
   "source": [
    "### One way of computing $ \\beta = \\det[ Q''(s) ]|_{s=-1} $: derive then take determinant\n",
    "\n",
    "$ P(s) = \\left[ \\begin{array} &0.5^{-s}&0.5^{-s}\\\\ 0.5^{-s}&0.5^{-s} \\end{array} \\right] $\n",
    "\n",
    "$ Q(s) = I - P(s) = \\left[ \\begin{array} &1 -0.5^{-s} & -0.5^{-s} \\\\ -0.5^{-s} & 1 -0.5^{-s}  \\end{array} \\right] $\n",
    "\n",
    "$ Q'(s) = \\left[ \\begin{array} &\\ln(0.5) 0.5^{-s} & \\ln(0.5) 0.5^{-s} \\\\ \\ln(0.5) 0.5^{-s} & \\ln(0.5) 0.5^{-s}  \\end{array} \\right] $\n",
    "\n",
    "$ Q''(s) = \\left[ \\begin{array} &-\\ln^2(0.5) 0.5^{-s} & -\\ln^2(0.5) 0.5^{-s} \\\\ -\\ln^2(0.5) 0.5^{-s} & -\\ln^2(0.5) 0.5^{-s}  \\end{array} \\right] = -\\ln^2(0.5) 0.5^{-s} \\left[ \\begin{array} &1&1\\\\ 1&1 \\end{array} \\right] $ of determinant 0\n",
    "\n",
    "so $ \\beta = 0 $ : this is not good !"
   ]
  },
  {
   "cell_type": "markdown",
   "metadata": {},
   "source": [
    "### Another way of computing $ \\beta = \\det[ Q''(s) ]|_{s=-1} $: take determinant, then derive\n",
    "\n",
    "$ P(s) = \\left[ \\begin{array} &0.5^{-s}&0.5^{-s}\\\\ 0.5^{-s}&0.5^{-s} \\end{array} \\right] $\n",
    "\n",
    "$ Q(s) = I - P(s) = \\left[ \\begin{array} &1 -0.5^{-s} & -0.5^{-s} \\\\ -0.5^{-s} & 1 -0.5^{-s}  \\end{array} \\right] $\n",
    "\n",
    "$ \\det[Q(s)] = (1 -0.5^{-s})^2 - (0.5^{-s})^2 = (1 -0.5^{-s})^2 - 0.5^{-2s} $\n",
    "\n",
    "$ \\frac{d}{ds}(\\det[Q(s)]) = 2 \\ln(0.5) 0.5^{-s} (1-0.5^{-s}) + 2 \\ln(0.5) 0.5^{-2s} $\n",
    "\n",
    "$ \\frac{d^2}{ds^2}(\\det[Q(s)]) = - 2 \\ln^2(0.5) 0.5^{-s} (1-0.5^{-s}) \n",
    "                                  +  2\\ln^2(0.5) 0.5^{-s} 0.5^{-s}\n",
    "                                    - 4 \\ln^2(0.5) 0.5^{-2s} \n",
    "                                 = - 2 \\ln^2(0.5) 0.5^{-s} $\n",
    "\n",
    "so $ \\beta = - 2 \\ln^2(0.5) 0.5 = - \\ln^2(0.5) $\n",
    "\n",
    "and we have $ \\omega = 0.5 + 0.5 = 1 $"
   ]
  },
  {
   "cell_type": "code",
   "execution_count": 2,
   "metadata": {},
   "outputs": [
    {
     "name": "stdout",
     "output_type": "stream",
     "text": [
      "0.4804530139182014\n"
     ]
    }
   ],
   "source": [
    "from math import log\n",
    "\n",
    "beta = - 2 * log(0.5) ** 2 * 0.5\n",
    "print(-beta)"
   ]
  },
  {
   "cell_type": "markdown",
   "metadata": {},
   "source": [
    "### One way to compute $\\dot{Q}^\\star(-1) $: star first, then derive \n",
    "\n",
    "$ Q^\\star(s) = \\left[ \\begin{array} &1-0.5^{-s}&0.5^{-s} \\\\ 0.5^{-s}& 1-0.5^{-s} \\end{array} \\right] $\n",
    "\n",
    "$ \\dot{Q}^\\star = \\left[ \\begin{array} &\\ln(0.5) 0.5^{-s} & -\\ln(0.5) 0.5^{-s} \\\\ -\\ln(0.5) 0.5^{-s} & \\ln(0.5) 0.5^{-s}  \\end{array} \\right] $\n",
    " \n",
    "so $ \\pi \\dot{Q}^\\star = 0 $ and $ \\pi \\dot{Q}^\\star \\psi = 0 $"
   ]
  },
  {
   "cell_type": "markdown",
   "metadata": {},
   "source": [
    "### Another way to compute $\\dot{Q}^\\star(-1) $: derive first, then star\n",
    "\n",
    "$ \\dot{Q}(s) =  \\left[ \\begin{array} &\\ln(0.5) 0.5^{-s} & \\ln(0.5) 0.5^{-s} \\\\ \\ln(0.5) 0.5^{-s} & \\ln(0.5) 0.5^{-s}  \\end{array} \\right] $\n",
    "\n",
    "$ \\dot{Q}^\\star = \\left[ \\begin{array} &\\ln(0.5) 0.5^{-s} & -\\ln(0.5) 0.5^{-s} \\\\ -\\ln(0.5) 0.5^{-s} & \\ln(0.5) 0.5^{-s}  \\end{array} \\right] $\n",
    " \n",
    "still $ \\pi \\dot{Q}^\\star = 0 $ and $ \\pi \\dot{Q}^\\star \\psi = 0 $"
   ]
  },
  {
   "cell_type": "markdown",
   "metadata": {},
   "source": [
    "Eventually, using the second way of computing $\\beta$, we have $V_n = \\frac{1}{h^3}(-\\beta-h^2)$"
   ]
  },
  {
   "cell_type": "code",
   "execution_count": 3,
   "metadata": {},
   "outputs": [
    {
     "name": "stdout",
     "output_type": "stream",
     "text": [
      "0.4804530139182014\n"
     ]
    }
   ],
   "source": [
    "h = log(0.5)\n",
    "h2 = h ** 2\n",
    "print(h2)"
   ]
  },
  {
   "cell_type": "markdown",
   "metadata": {},
   "source": [
    "Since $\\beta = h^2$, the variance is equal to 0 in this case. So the correct expression is the second derivative of\n",
    "the determinant of $Q(s)$."
   ]
  },
  {
   "cell_type": "markdown",
   "metadata": {},
   "source": [
    "We have $ Q(s) = \\left[ \\begin{array} &1-p_{0 0}^{-s}&-p_{0 1}^{-s} \\\\ -p_{1 0}^{-s} & 1-p_{1 1}^{-s} \\end{array} \\right] $\n",
    "\n",
    "$ \\det[Q(s)] = (1-p_{0 0}^{-s}) (1-p_{1 1}^{-s}) - {(p_{0 1} p_{1 0})}^{-s} $\n",
    "\n",
    "$ \\frac{d}{ds}(\\det[Q(s)]) = \n",
    "         \\ln(p_{0 0}) p_{0 0}^{-s} (1-p_{1 1}^{-s}) \n",
    "         + \\ln(p_{1 1}) p_{1 1}^{-s} (1-p_{0 0}^{-s})\n",
    "         + \\ln(p_{0 1} p_{1 0}) {(p_{0 1} p_{1 0})}^{-s} $\n",
    "         \n",
    "$ \\frac{d^2}{ds^2}(\\det[Q(s)]) = \n",
    "         -\\ln^2(p_{0 0}) p_{0 0}^{-s} (1-p_{1 1}^{-s}) \n",
    "         + \\ln(p_{0 0}) \\ln(p_{1 1}) p_{0 0}^{-s} p_{1 1}^{-s}\n",
    "         - \\ln^2(p_{1 1}) p_{1 1}^{-s} (1-p_{0 0}^{-s})\n",
    "         + \\ln(p_{1 1}) \\ln(p_{0 0}) p_{1 1}^{-s} p_{0 0}^{-s}\n",
    "         - \\ln^2(p_{0 1} p_{1 0}) {(p_{0 1} p_{1 0})}^{-s} $       "
   ]
  },
  {
   "cell_type": "code",
   "execution_count": 4,
   "metadata": {},
   "outputs": [
    {
     "name": "stdout",
     "output_type": "stream",
     "text": [
      "-0.4804530139182014\n"
     ]
    }
   ],
   "source": [
    "p00 = M[0, 0]\n",
    "p01 = M[0, 1]\n",
    "p11 = M[1, 1]\n",
    "p10 = M[1, 0]\n",
    "\n",
    "beta = 0\n",
    "beta -= log(p00) ** 2 * p00 * (1 - p11)\n",
    "beta += log(p00) * log(p11) * p00 * p11\n",
    "beta -= log(p11) ** 2 * p11 * (1 - p00)\n",
    "beta += log(p11) * log(p00) * p11 * p00\n",
    "beta -= log(p01*p10) ** 2 * p01 * p10\n",
    "\n",
    "print(beta)"
   ]
  },
  {
   "cell_type": "markdown",
   "metadata": {},
   "source": [
    "On constate que cette formule générale donne le bon résultat pour notre M particulière. J'en fais une fonction"
   ]
  },
  {
   "cell_type": "code",
   "execution_count": 9,
   "metadata": {},
   "outputs": [],
   "source": [
    "def beta(M):\n",
    "    p00 = M[0, 0]\n",
    "    p01 = M[0, 1]\n",
    "    p11 = M[1, 1]\n",
    "    p10 = M[1, 0]\n",
    "\n",
    "    beta = 0\n",
    "    beta -= log(p00) ** 2 * p00 * (1 - p11)\n",
    "    beta += log(p00) * log(p11) * p00 * p11\n",
    "    beta -= log(p11) ** 2 * p11 * (1 - p00)\n",
    "    beta += log(p11) * log(p00) * p11 * p00\n",
    "    beta -= log(p01*p10) ** 2 * p01 * p10\n",
    "    \n",
    "    return beta\n",
    "\n",
    "def pi_q_psi(M, p):\n",
    "    r\"\"\" \\pi \\dot{Q}^{\\star} \\psi computation\"\"\"\n",
    "    s = 0\n",
    "\n",
    "    p00 = M[0, 0]\n",
    "    p11 = M[1, 1]\n",
    "    p01 = M[0, 1]\n",
    "    p10 = M[1, 0]\n",
    "\n",
    "    s += p[0] * p11 * log(p11)\n",
    "    s -= p[1] * p10 * log(p10)\n",
    "    s -= p[0] * p01 * log(p01)\n",
    "    s += p[1] * p00 * log(p00)\n",
    "\n",
    "    return s  # verified"
   ]
  },
  {
   "cell_type": "markdown",
   "metadata": {},
   "source": [
    "Problème : j'obtiens encore des valeurs négatives\n",
    "Examinons $ \\dot{Q^\\star}(-1) $ en détail.\n",
    "\n",
    "$ Q(s) = \\left[ \\begin{array} &1-p_{0 0}^{-s}&-p_{0 1}^{-s} \\\\ -p_{1 0}^{-s} & 1-p_{1 1}^{-s} \\end{array} \\right] $\n",
    "\n",
    "$ \\dot{Q}(s) = \\left[ \\begin{array} \n",
    "                    &\\ln(p_{0 0}) p_{0 0}^{-s} & \\ln(p_{0 1}) p_{0 1}^{-s} \\\\ \n",
    "                    \\ln(p_{1 0}) p_{1 0}^{-s} & \\ln(p_{1 1}) p_{1 1}^{-s} \\end{array} \\right] $\n",
    "                    \n",
    "$ \\dot{Q}^\\star(s) = \\left[ \\begin{array} \n",
    "                    &\\ln(p_{1 1}) p_{1 1}^{-s}& -\\ln(p_{0 1}) p_{0 1}^{-s} \\\\ \n",
    "                    -\\ln(p_{1 0}) p_{1 0}^{-s} & \\ln(p_{0 0}) p_{0 0}^{-s}  \\end{array} \\right] $\n",
    "\n",
    "Donc en fait $ \\dot{Q}^\\star(s) $ ne dépend pas de l'ordre des opérations"
   ]
  },
  {
   "cell_type": "code",
   "execution_count": 37,
   "metadata": {},
   "outputs": [
    {
     "name": "stdout",
     "output_type": "stream",
     "text": [
      "\\beta = -0.47644141688788116\n",
      "\\omega = 0.8630495300000001\n",
      "\\pi = [0.5019251096747599, 0.49807489032524005]\n",
      "\\pi Q \\psi = 0.041590579395813565\n",
      "h = 0.6837325392387279\n",
      "\\beta / \\omega = -0.5520441183577044\n",
      "h^2 = 0.46749018521383856\n",
      "2 \\pi Q \\psi / \\omega = 0.09638051571805749\n",
      "0.5520441183577044\n",
      "0.4556636026396469\n",
      "-0.14827771757774358\n"
     ]
    }
   ],
   "source": [
    "M = np.array([[0.5701367, 0.4298633 ],\n",
    " [0.43318623, 0.56681377]])\n",
    "\n",
    "n = 500\n",
    "b = beta(M)\n",
    "o = M[0, 1] + M[1, 0]\n",
    "p = [M[1, 0] / o, M[0, 1] / o]\n",
    "\n",
    "h = 0.\n",
    "h -= p[0] * M[0, 0] * log(M[0, 0])\n",
    "h -= p[0] * M[0, 1] * log(M[0, 1])\n",
    "h -= p[1] * M[1, 0] * log(M[1, 0])\n",
    "h -= p[1] * M[1, 1] * log(M[1, 1])\n",
    "\n",
    "pqpsi = pi_q_psi(M, p)\n",
    "m = n * h / log(n)\n",
    "print('\\\\beta = {}\\n\\omega = {}\\n\\pi = {}\\n\\pi Q \\psi = {}\\nh = {}'.format(b, o, p, pqpsi, h))\n",
    "print('\\\\beta / \\omega = {}'.format(b/o))\n",
    "print('h^2 = {}'.format(h ** 2))\n",
    "print('2 \\pi Q \\psi / \\omega = {}'.format( 2 * pqpsi / o ))\n",
    "s = 0.\n",
    "s -= b / o\n",
    "print(s)\n",
    "s -= 2 * pqpsi / o\n",
    "print(s)\n",
    "s -= h ** 2\n",
    "s /= h ** 3\n",
    "s *= log(m)\n",
    "print(s)"
   ]
  },
  {
   "cell_type": "code",
   "execution_count": 41,
   "metadata": {},
   "outputs": [
    {
     "name": "stdout",
     "output_type": "stream",
     "text": [
      "\\beta = -0.1960907173251923\n",
      "\\omega = 0.2\n",
      "\\pi = [0.5, 0.5]\n",
      "\\pi Q \\psi = 0.1354340452073609\n",
      "h = 0.3250829733914482\n",
      "\\beta / \\omega = -0.9804535866259614\n",
      "h^2 = 0.10567893958902502\n",
      "2 \\pi Q \\psi / \\omega = 1.354340452073609\n",
      "-45.56378152782191\n"
     ]
    }
   ],
   "source": [
    "M = np.array([[0.9, 0.1],\n",
    " [0.1, 0.9]])\n",
    "\n",
    "n = 500\n",
    "b = beta(M)\n",
    "o = M[0, 1] + M[1, 0]\n",
    "p = [M[1, 0] / o, M[0, 1] / o]\n",
    "\n",
    "h = 0.\n",
    "h -= p[0] * M[0, 0] * log(M[0, 0])\n",
    "h -= p[0] * M[0, 1] * log(M[0, 1])\n",
    "h -= p[1] * M[1, 0] * log(M[1, 0])\n",
    "h -= p[1] * M[1, 1] * log(M[1, 1])\n",
    "\n",
    "pqpsi = pi_q_psi(M, p)\n",
    "m = n * h / log(n)\n",
    "print('\\\\beta = {}\\n\\omega = {}\\n\\pi = {}\\n\\pi Q \\psi = {}\\nh = {}'.format(b, o, p, pqpsi, h))\n",
    "print('\\\\beta / \\omega = {}'.format(b/o))\n",
    "print('h^2 = {}'.format(h ** 2))\n",
    "print('2 \\pi Q \\psi / \\omega = {}'.format( 2 * pqpsi / o ))\n",
    "s = (- (b / o) - (2 * pqpsi) / o - (h ** 2)) / (h ** 3)\n",
    "s *= log(m)\n",
    "print(s)"
   ]
  },
  {
   "cell_type": "code",
   "execution_count": null,
   "metadata": {},
   "outputs": [],
   "source": []
  }
 ],
 "metadata": {
  "kernelspec": {
   "display_name": "Python 3",
   "language": "python",
   "name": "python3"
  },
  "language_info": {
   "codemirror_mode": {
    "name": "ipython",
    "version": 3
   },
   "file_extension": ".py",
   "mimetype": "text/x-python",
   "name": "python",
   "nbconvert_exporter": "python",
   "pygments_lexer": "ipython3",
   "version": "3.6.6"
  }
 },
 "nbformat": 4,
 "nbformat_minor": 2
}
