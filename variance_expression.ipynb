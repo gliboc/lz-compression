{
 "cells": [
  {
   "cell_type": "markdown",
   "metadata": {},
   "source": [
    "# Calcul de V_n pour un exemple"
   ]
  },
  {
   "cell_type": "markdown",
   "metadata": {},
   "source": [
    "$$ V_n = \\frac{1}{h^3} \\left( -\\frac{\\beta}{\\omega} \n",
    "                - \\frac{2}{\\omega} \\pi \\dot{Q}^\\star \\psi - h^2 \\right) $$"
   ]
  },
  {
   "cell_type": "code",
   "execution_count": 11,
   "metadata": {},
   "outputs": [],
   "source": [
    "import numpy as np\n",
    "\n",
    "M = np.array([[0.5, 0.5],\n",
    "     [0.5, 0.5]])  # Markov chain\n",
    "\n",
    "pi_0, pi_1 = 0.5, 0.5  # stationary distrib"
   ]
  },
  {
   "cell_type": "markdown",
   "metadata": {},
   "source": [
    "### One way of computing $ \\beta = \\det[ Q''(s) ]|_{s=-1} $: derive then take determinant\n",
    "\n",
    "$ P(s) = \\left[ \\begin{array} &0.5^{-s}&0.5^{-s}\\\\ 0.5^{-s}&0.5^{-s} \\end{array} \\right] $\n",
    "\n",
    "$ Q(s) = I - P(s) = \\left[ \\begin{array} &1 -0.5^{-s} & -0.5^{-s} \\\\ -0.5^{-s} & 1 -0.5^{-s}  \\end{array} \\right] $\n",
    "\n",
    "$ Q'(s) = \\left[ \\begin{array} &\\ln(0.5) 0.5^{-s} & \\ln(0.5) 0.5^{-s} \\\\ \\ln(0.5) 0.5^{-s} & \\ln(0.5) 0.5^{-s}  \\end{array} \\right] $\n",
    "\n",
    "$ Q''(s) = \\left[ \\begin{array} &-\\ln^2(0.5) 0.5^{-s} & -\\ln^2(0.5) 0.5^{-s} \\\\ -\\ln^2(0.5) 0.5^{-s} & -\\ln^2(0.5) 0.5^{-s}  \\end{array} \\right] = -\\ln^2(0.5) 0.5^{-s} \\left[ \\begin{array} &1&1\\\\ 1&1 \\end{array} \\right] $ of determinant 0\n",
    "\n",
    "so $ \\beta = 0 $ : this is not good !"
   ]
  },
  {
   "cell_type": "markdown",
   "metadata": {},
   "source": [
    "### Another way of computing $ \\beta = \\det[ Q''(s) ]|_{s=-1} $: take determinant, then derive\n",
    "\n",
    "$ P(s) = \\left[ \\begin{array} &0.5^{-s}&0.5^{-s}\\\\ 0.5^{-s}&0.5^{-s} \\end{array} \\right] $\n",
    "\n",
    "$ Q(s) = I - P(s) = \\left[ \\begin{array} &1 -0.5^{-s} & -0.5^{-s} \\\\ -0.5^{-s} & 1 -0.5^{-s}  \\end{array} \\right] $\n",
    "\n",
    "$ \\det[Q(s)] = (1 -0.5^{-s})^2 - (0.5^{-s})^2 = (1 -0.5^{-s})^2 - 0.5^{-2s} $\n",
    "\n",
    "$ \\frac{d}{ds}(\\det[Q(s)]) = 2 \\ln(0.5) 0.5^{-s} (1-0.5^{-s}) + 2 \\ln(0.5) 0.5^{-2s} $\n",
    "\n",
    "$ \\frac{d^2}{ds^2}(\\det[Q(s)]) = - 2 \\ln^2(0.5) 0.5^{-s} (1-0.5^{-s}) \n",
    "                                  +  2\\ln^2(0.5) 0.5^{-s} 0.5^{-s}\n",
    "                                    - 4 \\ln^2(0.5) 0.5^{-2s} \n",
    "                                 = - 2 \\ln^2(0.5) 0.5^{-s} $\n",
    "\n",
    "so $ \\beta = - 2 \\ln^2(0.5) 0.5 = - \\ln^2(0.5) $\n",
    "\n",
    "and we have $ \\omega = 0.5 + 0.5 = 1 $"
   ]
  },
  {
   "cell_type": "code",
   "execution_count": 8,
   "metadata": {},
   "outputs": [
    {
     "name": "stdout",
     "output_type": "stream",
     "text": [
      "0.4804530139182014\n"
     ]
    }
   ],
   "source": [
    "from math import log\n",
    "\n",
    "beta = - 2 * log(0.5) ** 2 * 0.5\n",
    "print(-beta)"
   ]
  },
  {
   "cell_type": "markdown",
   "metadata": {},
   "source": [
    "### One way to compute $\\dot{Q}^\\star(-1) $: star first, then derive \n",
    "\n",
    "$ Q^\\star(s) = \\left[ \\begin{array} &1-0.5^{-s}&0.5^{-s} \\\\ 0.5^{-s}& 1-0.5^{-s} \\end{array} \\right] $\n",
    "\n",
    "$ \\dot{Q}^\\star = \\left[ \\begin{array} &\\ln(0.5) 0.5^{-s} & -\\ln(0.5) 0.5^{-s} \\\\ -\\ln(0.5) 0.5^{-s} & \\ln(0.5) 0.5^{-s}  \\end{array} \\right] $\n",
    " \n",
    "so $ \\pi \\dot{Q}^\\star = 0 $ and $ \\pi \\dot{Q}^\\star \\psi = 0 $"
   ]
  },
  {
   "cell_type": "markdown",
   "metadata": {},
   "source": [
    "### Another way to compute $\\dot{Q}^\\star(-1) $: derive first, then star\n",
    "\n",
    "$ \\dot{Q}(s) =  \\left[ \\begin{array} &\\ln(0.5) 0.5^{-s} & \\ln(0.5) 0.5^{-s} \\\\ \\ln(0.5) 0.5^{-s} & \\ln(0.5) 0.5^{-s}  \\end{array} \\right] $\n",
    "\n",
    "$ \\dot{Q}^\\star = \\left[ \\begin{array} &\\ln(0.5) 0.5^{-s} & -\\ln(0.5) 0.5^{-s} \\\\ -\\ln(0.5) 0.5^{-s} & \\ln(0.5) 0.5^{-s}  \\end{array} \\right] $\n",
    " \n",
    "still $ \\pi \\dot{Q}^\\star = 0 $ and $ \\pi \\dot{Q}^\\star \\psi = 0 $"
   ]
  },
  {
   "cell_type": "markdown",
   "metadata": {},
   "source": [
    "Eventually, using the second way of computing $\\beta$, we have $V_n = \\frac{1}{h^3}(-\\beta-h^2)$"
   ]
  },
  {
   "cell_type": "code",
   "execution_count": 9,
   "metadata": {},
   "outputs": [
    {
     "name": "stdout",
     "output_type": "stream",
     "text": [
      "0.4804530139182014\n"
     ]
    }
   ],
   "source": [
    "h = log(0.5)\n",
    "h2 = h ** 2\n",
    "print(h2)"
   ]
  },
  {
   "cell_type": "markdown",
   "metadata": {},
   "source": [
    "Since $\\beta = h^2$, the variance is equal to 0 in this case. So the correct expression is the second derivative of\n",
    "the determinant of $Q(s)$."
   ]
  },
  {
   "cell_type": "markdown",
   "metadata": {},
   "source": [
    "We have $ Q(s) = \\left[ \\begin{array} &1-p_{0 0}^{-s}&-p_{0 1}^{-s} \\\\ -p_{1 0}^{-s} & 1-p_{1 1}^{-s} \\end{array} \\right] $\n",
    "\n",
    "$ \\det[Q(s)] = (1-p_{0 0}^{-s}) (1-p_{1 1}^{-s}) - {(p_{0 1} p_{1 0})}^{-s} $\n",
    "\n",
    "$ \\frac{d}{ds}(\\det[Q(s)]) = \n",
    "         \\ln(p_{0 0}) p_{0 0}^{-s} (1-p_{1 1}^{-s}) \n",
    "         + \\ln(p_{1 1}) p_{1 1}^{-s} (1-p_{0 0}^{-s})\n",
    "         + \\ln(p_{0 1} p_{1 0}) {(p_{0 1} p_{1 0})}^{-s} $\n",
    "         \n",
    "$ \\frac{d^2}{ds^2}(\\det[Q(s)]) = \n",
    "         -\\ln^2(p_{0 0}) p_{0 0}^{-s} (1-p_{1 1}^{-s}) \n",
    "         + \\ln(p_{0 0}) \\ln(p_{1 1}) p_{0 0}^{-s} p_{1 1}^{-s}\n",
    "         - \\ln^2(p_{1 1}) p_{1 1}^{-s} (1-p_{0 0}^{-s})\n",
    "         + \\ln(p_{1 1}) \\ln(p_{0 0}) p_{1 1}^{-s} p_{0 0}^{-s}\n",
    "         - \\ln^2(p_{0 1} p_{1 0}) {(p_{0 1} p_{1 0})}^{-s} $       "
   ]
  },
  {
   "cell_type": "code",
   "execution_count": 12,
   "metadata": {},
   "outputs": [
    {
     "name": "stdout",
     "output_type": "stream",
     "text": [
      "-0.4804530139182014\n"
     ]
    }
   ],
   "source": [
    "p00 = M[0, 0]\n",
    "p01 = M[0, 1]\n",
    "p11 = M[1, 1]\n",
    "p10 = M[1, 0]\n",
    "\n",
    "beta = 0\n",
    "beta -= log(p00) ** 2 * p00 * (1 - p11)\n",
    "beta += log(p00) * log(p11) * p00 * p11\n",
    "beta -= log(p11) ** 2 * p11 * (1 - p00)\n",
    "beta += log(p11) * log(p00) * p11 * p00\n",
    "beta -= log(p01*p10) ** 2 * p01 * p10\n",
    "\n",
    "print(beta)"
   ]
  },
  {
   "cell_type": "markdown",
   "metadata": {},
   "source": [
    "On constate que cette formule générale donne le bon résultat pour notre M particulière. J'en fais une fonction"
   ]
  },
  {
   "cell_type": "code",
   "execution_count": 13,
   "metadata": {},
   "outputs": [],
   "source": [
    "def beta(M):\n",
    "    p00 = M[0, 0]\n",
    "    p01 = M[0, 1]\n",
    "    p11 = M[1, 1]\n",
    "    p10 = M[1, 0]\n",
    "\n",
    "    beta = 0\n",
    "    beta -= log(p00) ** 2 * p00 * (1 - p11)\n",
    "    beta += log(p00) * log(p11) * p00 * p11\n",
    "    beta -= log(p11) ** 2 * p11 * (1 - p00)\n",
    "    beta += log(p11) * log(p00) * p11 * p00\n",
    "    beta -= log(p01*p10) ** 2 * p01 * p10"
   ]
  }
 ],
 "metadata": {
  "kernelspec": {
   "display_name": "Python 3",
   "language": "python",
   "name": "python3"
  },
  "language_info": {
   "codemirror_mode": {
    "name": "ipython",
    "version": 3
   },
   "file_extension": ".py",
   "mimetype": "text/x-python",
   "name": "python",
   "nbconvert_exporter": "python",
   "pygments_lexer": "ipython3",
   "version": "3.6.6"
  }
 },
 "nbformat": 4,
 "nbformat_minor": 2
}
