{
 "cells": [
  {
   "cell_type": "markdown",
   "metadata": {},
   "source": [
    "#  Computing V_n"
   ]
  },
  {
   "cell_type": "markdown",
   "metadata": {},
   "source": [
    "$$ V_n = \\frac{1}{h^3} \\left( -\\frac{\\beta}{\\omega} \n",
    "                - \\frac{2}{\\omega} \\pi \\dot{Q}^\\star \\psi - h^2 \\right) $$"
   ]
  },
  {
   "cell_type": "code",
   "execution_count": 4,
   "metadata": {},
   "outputs": [],
   "source": [
    "import numpy as np\n",
    "\n",
    "M = np.array([[0.5, 0.5],\n",
    "     [0.5, 0.5]])  # Markov chain\n",
    "\n",
    "pi_0, pi_1 = 0.5, 0.5  # stationary distribution for this example"
   ]
  },
  {
   "cell_type": "markdown",
   "metadata": {},
   "source": [
    "## One way of computing $ \\beta = \\det[ Q''(s) ]|_{s=-1} $: derive then take determinant (wrong way)\n",
    "\n",
    "$ P(s) = \\left[ \\begin{array} &0.5^{-s}&0.5^{-s}\\\\ 0.5^{-s}&0.5^{-s} \\end{array} \\right] $\n",
    "\n",
    "$ Q(s) = I - P(s) = \\left[ \\begin{array} &1 -0.5^{-s} & -0.5^{-s} \\\\ -0.5^{-s} & 1 -0.5^{-s}  \\end{array} \\right] $\n",
    "\n",
    "$ Q'(s) = \\left[ \\begin{array} &\\ln(0.5) 0.5^{-s} & \\ln(0.5) 0.5^{-s} \\\\ \\ln(0.5) 0.5^{-s} & \\ln(0.5) 0.5^{-s}  \\end{array} \\right] $\n",
    "\n",
    "$ Q''(s) = \\left[ \\begin{array} &-\\ln^2(0.5) 0.5^{-s} & -\\ln^2(0.5) 0.5^{-s} \\\\ -\\ln^2(0.5) 0.5^{-s} & -\\ln^2(0.5) 0.5^{-s}  \\end{array} \\right] = -\\ln^2(0.5) 0.5^{-s} \\left[ \\begin{array} &1&1\\\\ 1&1 \\end{array} \\right] $ of determinant 0\n",
    "\n",
    "so $ \\beta = 0 $ : this is not good ! After looking at another paper, it seems like the right definition\n",
    "for $ \\beta $ would rather be next one."
   ]
  },
  {
   "cell_type": "markdown",
   "metadata": {},
   "source": [
    "\n",
    "## Another way of computing $ \\beta = [\\det Q(s)]''|_{s=-1} $: take determinant, then derive (good way)\n",
    "\n",
    "$ P(s) = \\left[ \\begin{array} &0.5^{-s}&0.5^{-s}\\\\ 0.5^{-s}&0.5^{-s} \\end{array} \\right] $\n",
    "\n",
    "$ Q(s) = I - P(s) = \\left[ \\begin{array} &1 -0.5^{-s} & -0.5^{-s} \\\\ -0.5^{-s} & 1 -0.5^{-s}  \\end{array} \\right] $\n",
    "\n",
    "$ \\det[Q(s)] = (1 -0.5^{-s})^2 - (0.5^{-s})^2 = (1 -0.5^{-s})^2 - 0.5^{-2s} $\n",
    "\n",
    "$ \\frac{d}{ds}(\\det[Q(s)]) = 2 \\ln(0.5) 0.5^{-s} (1-0.5^{-s}) + 2 \\ln(0.5) 0.5^{-2s} $\n",
    "\n",
    "$ \\frac{d^2}{ds^2}(\\det[Q(s)]) = - 2 \\ln^2(0.5) 0.5^{-s} (1-0.5^{-s}) \n",
    "                                  +  2\\ln^2(0.5) 0.5^{-s} 0.5^{-s}\n",
    "                                    - 4 \\ln^2(0.5) 0.5^{-2s} \n",
    "                                 = - 2 \\ln^2(0.5) 0.5^{-s} $\n",
    "\n",
    "so $ \\beta = - 2 \\ln^2(0.5) 0.5 = - \\ln^2(0.5) $\n",
    "Better on this example.\n",
    "\n",
    "and we have $ \\omega = 0.5 + 0.5 = 1 $"
   ]
  },
  {
   "cell_type": "code",
   "execution_count": 5,
   "metadata": {},
   "outputs": [
    {
     "name": "stdout",
     "output_type": "stream",
     "text": [
      "0.4804530139182014\n"
     ]
    }
   ],
   "source": [
    "from math import log\n",
    "\n",
    "beta = - 2 * log(0.5) ** 2 * 0.5\n",
    "print(-beta)"
   ]
  },
  {
   "cell_type": "markdown",
   "metadata": {},
   "source": [
    "### One way to compute $\\dot{Q}^\\star(-1) $: star first, then derive \n",
    "\n",
    "$ Q^\\star(s) = \\left[ \\begin{array} &1-0.5^{-s}&0.5^{-s} \\\\ 0.5^{-s}& 1-0.5^{-s} \\end{array} \\right] $\n",
    "\n",
    "$ \\dot{Q}^\\star = \\left[ \\begin{array} &\\ln(0.5) 0.5^{-s} & -\\ln(0.5) 0.5^{-s} \\\\ -\\ln(0.5) 0.5^{-s} & \\ln(0.5) 0.5^{-s}  \\end{array} \\right] $\n",
    " \n",
    "so $ \\pi \\dot{Q}^\\star = 0 $ and $ \\pi \\dot{Q}^\\star \\psi = 0 $"
   ]
  },
  {
   "cell_type": "markdown",
   "metadata": {},
   "source": [
    "### Another way to compute $\\dot{Q}^\\star(-1) $: derive first, then star\n",
    "\n",
    "$ \\dot{Q}(s) =  \\left[ \\begin{array} &\\ln(0.5) 0.5^{-s} & \\ln(0.5) 0.5^{-s} \\\\ \\ln(0.5) 0.5^{-s} & \\ln(0.5) 0.5^{-s}  \\end{array} \\right] $\n",
    "\n",
    "$ \\dot{Q}^\\star = \\left[ \\begin{array} &\\ln(0.5) 0.5^{-s} & -\\ln(0.5) 0.5^{-s} \\\\ -\\ln(0.5) 0.5^{-s} & \\ln(0.5) 0.5^{-s}  \\end{array} \\right] $\n",
    " \n",
    "still $ \\pi \\dot{Q}^\\star = 0 $ and $ \\pi \\dot{Q}^\\star \\psi = 0 $"
   ]
  },
  {
   "cell_type": "markdown",
   "metadata": {},
   "source": [
    "Actually, and generally, the two ways are equivalent.\n",
    "We have $V_n = \\frac{1}{h^3}(-\\beta-h^2)$ i this example."
   ]
  },
  {
   "cell_type": "code",
   "execution_count": 5,
   "metadata": {},
   "outputs": [
    {
     "name": "stdout",
     "output_type": "stream",
     "text": [
      "0.4804530139182014\n"
     ]
    }
   ],
   "source": [
    "h = log(0.5)\n",
    "h2 = h ** 2\n",
    "print(h2)"
   ]
  },
  {
   "cell_type": "markdown",
   "metadata": {},
   "source": [
    "Since $\\beta = h^2$, the variance is equal to 0 in this case."
   ]
  },
  {
   "cell_type": "markdown",
   "metadata": {},
   "source": [
    "## General expression for $ \\beta $\n",
    "_double checked_\n",
    "\n",
    "We have $ Q(s) = \\left[ \\begin{array} &1-p_{0 0}^{-s}&-p_{0 1}^{-s} \\\\ -p_{1 0}^{-s} & 1-p_{1 1}^{-s} \\end{array} \\right] $\n",
    "\n",
    "$ \\det[Q(s)] = (1-p_{0 0}^{-s}) (1-p_{1 1}^{-s}) - {(p_{0 1} p_{1 0})}^{-s} $\n",
    "\n",
    "$ \\frac{d}{ds}(\\det[Q(s)]) = \n",
    "         \\ln(p_{0 0}) p_{0 0}^{-s} (1-p_{1 1}^{-s}) \n",
    "         + \\ln(p_{1 1}) p_{1 1}^{-s} (1-p_{0 0}^{-s})\n",
    "         + \\ln(p_{0 1} p_{1 0}) {(p_{0 1} p_{1 0})}^{-s} $\n",
    "         \n",
    "$ \\frac{d^2}{ds^2}(\\det[Q(s)]) = \n",
    "         -\\ln^2(p_{0 0}) p_{0 0}^{-s} (1-p_{1 1}^{-s}) \n",
    "         + \\ln(p_{0 0}) \\ln(p_{1 1}) p_{0 0}^{-s} p_{1 1}^{-s}\n",
    "         - \\ln^2(p_{1 1}) p_{1 1}^{-s} (1-p_{0 0}^{-s})\n",
    "         + \\ln(p_{1 1}) \\ln(p_{0 0}) p_{1 1}^{-s} p_{0 0}^{-s}\n",
    "         - \\ln^2(p_{0 1} p_{1 0}) {(p_{0 1} p_{1 0})}^{-s} $       \n",
    "         \n",
    "$$ \\boxed{\\beta =  -\\ln^2(p_{0 0}) p_{0 0} p_{1 0}\n",
    "         + 2\\ln(p_{0 0}) \\ln(p_{1 1}) p_{0 0} p_{1 1}\n",
    "         - \\ln^2(p_{1 1}) p_{1 1} p_{0 1}\n",
    "         - (\\ln(p_{0 1}) + \\ln(p_{1 0}))^2 {(p_{0 1} p_{1 0})}} $$"
   ]
  },
  {
   "cell_type": "code",
   "execution_count": 6,
   "metadata": {},
   "outputs": [
    {
     "name": "stdout",
     "output_type": "stream",
     "text": [
      "-0.4804530139182014\n",
      "-0.4804530139182014\n"
     ]
    }
   ],
   "source": [
    "p00 = M[0, 0]\n",
    "p01 = M[0, 1]\n",
    "p11 = M[1, 1]\n",
    "p10 = M[1, 0]\n",
    "\n",
    "beta = 0\n",
    "beta -= log(p00) ** 2 * p00 * (1 - p11)\n",
    "beta += log(p00) * log(p11) * p00 * p11\n",
    "beta -= log(p11) ** 2 * p11 * (1 - p00)\n",
    "beta += log(p11) * log(p00) * p11 * p00\n",
    "beta -= log(p01*p10) ** 2 * p01 * p10\n",
    "\n",
    "beta2 = 0\n",
    "beta2 -= (log(p00) ** 2) * p00 * p10\n",
    "beta2 += 2 * log(p00) * log(p11) * p00 * p11\n",
    "beta2 -= (log(p11) ** 2) * p11 * p01\n",
    "beta2 -= ((log(p01) + log(p10)) ** 2) * p01 * p10\n",
    "\n",
    "print(beta)\n",
    "print(beta2)\n",
    "# Computed twice"
   ]
  },
  {
   "cell_type": "markdown",
   "metadata": {},
   "source": [
    "Making a function out of it"
   ]
  },
  {
   "cell_type": "code",
   "execution_count": 7,
   "metadata": {},
   "outputs": [],
   "source": [
    "def beta(M):\n",
    "    p00 = M[0, 0]\n",
    "    p01 = M[0, 1]\n",
    "    p11 = M[1, 1]\n",
    "    p10 = M[1, 0]\n",
    "\n",
    "    beta = 0\n",
    "    beta = 0\n",
    "    beta -= (log(p00) ** 2) * p00 * p10\n",
    "    beta += 2 * log(p00) * log(p11) * p00 * p11\n",
    "    beta -= (log(p11) ** 2) * p11 * p01\n",
    "    beta -= ((log(p01) + log(p10)) ** 2) * p01 * p10\n",
    "    \n",
    "    return beta"
   ]
  },
  {
   "cell_type": "markdown",
   "metadata": {},
   "source": [
    "Problem : still have negative values.\n",
    "Examining $ \\dot{Q^\\star}(-1) $ in details\n",
    "\n",
    "$ Q(s) = \\left[ \\begin{array} &1-p_{0 0}^{-s}&-p_{0 1}^{-s} \\\\ -p_{1 0}^{-s} & 1-p_{1 1}^{-s} \\end{array} \\right] $\n",
    "\n",
    "$ \\dot{Q}(s) = \\left[ \\begin{array} \n",
    "                    &\\ln(p_{0 0}) p_{0 0}^{-s} & \\ln(p_{0 1}) p_{0 1}^{-s} \\\\ \n",
    "                    \\ln(p_{1 0}) p_{1 0}^{-s} & \\ln(p_{1 1}) p_{1 1}^{-s} \\end{array} \\right] $\n",
    "                    \n",
    "$ \\dot{Q}^\\star(s) = \\left[ \\begin{array} \n",
    "                    &\\ln(p_{1 1}) p_{1 1}^{-s}& -\\ln(p_{0 1}) p_{0 1}^{-s} \\\\ \n",
    "                    -\\ln(p_{1 0}) p_{1 0}^{-s} & \\ln(p_{0 0}) p_{0 0}^{-s}  \\end{array} \\right] $\n",
    "                    \n",
    "$$ \\boxed{ \\pi \\dot{Q}^\\star(-1) \\psi =\n",
    "        \\pi_0 \\, \\ln(p_{1 1}) p_{1 1}\n",
    "        - \\pi_1 \\, \\ln(p_{1 0}) p_{1 0}\n",
    "        - \\pi_0 \\, \\ln(p_{0 1}) p_{0 1}\n",
    "        + \\pi_1 \\, \\ln(p_{0 0}) p_{0 0} }$$\n",
    "        \n",
    "    \n",
    "\n",
    "$ \\dot{Q}^\\star(s) $ does not depend on operations order"
   ]
  },
  {
   "cell_type": "code",
   "execution_count": 8,
   "metadata": {},
   "outputs": [],
   "source": [
    "def pi_q_psi(M, p):\n",
    "    r\"\"\" \\pi \\dot{Q}^{\\star} \\psi computation\"\"\"\n",
    "    s = 0.\n",
    "\n",
    "    p00 = M[0, 0]\n",
    "    p11 = M[1, 1]\n",
    "    p01 = M[0, 1]\n",
    "    p10 = M[1, 0]\n",
    "\n",
    "    s += p[0] * p11 * log(p11)\n",
    "    s -= p[1] * p10 * log(p10)\n",
    "    s -= p[0] * p01 * log(p01)\n",
    "    s += p[1] * p00 * log(p00)\n",
    "\n",
    "    return s  # verified\n",
    "\n",
    "def entropy(M):\n",
    "    h = 0.\n",
    "    h -= p[0] * (M[0, 0] * log(M[0, 0]) + M[0, 1] * log(M[0, 1]))\n",
    "    h -= p[1] * (M[1, 0] * log(M[1, 0]) + M[1, 1] * log(M[1, 1]))\n",
    "\n",
    "    return h\n",
    "\n",
    "def omega(M):\n",
    "    \n",
    "    return M[0, 1] + M[1, 0]"
   ]
  },
  {
   "cell_type": "code",
   "execution_count": 9,
   "metadata": {},
   "outputs": [
    {
     "name": "stdout",
     "output_type": "stream",
     "text": [
      "\\beta = -0.4764414168878812\n",
      "\\omega = 0.8630495300000001\n",
      "\\pi = [0.5019251096747599, 0.49807489032524005]\n",
      "\\pi Q \\psi = 0.041590579395813565\n",
      "h = 0.6837325392387279\n",
      "\\beta / \\omega = -0.5520441183577044\n",
      "h^2 = 0.46749018521383856\n",
      "2 \\pi Q \\psi / \\omega = 0.09638051571805749\n",
      "0.5520441183577044\n",
      "0.4556636026396469\n",
      "This should always be positive: -0.011826582574191669\n",
      "-0.14827771757774358\n",
      "0.7448544912332209\n",
      "1.2519795532713505\n",
      "0.7448544912332209\n",
      "1.2519795532713505\n",
      "0.86304953\n",
      "0.7253231186345415\n",
      "3.047905055469315\n",
      "lambda 1.0\n",
      "der_lamb 0.6837325392387279\n",
      "entropy 0.6837325392387279\n",
      "der2_lamb 1.7052961083495826\n",
      "variance_constant_coeff 3.8725212570558867\n",
      "good? 3.8725212570558867\n"
     ]
    }
   ],
   "source": [
    "M = np.array([[0.5701367, 0.4298633 ],\n",
    " [0.43318623, 0.56681377]])\n",
    "\n",
    "n = 500\n",
    "b = beta(M)\n",
    "o = M[0, 1] + M[1, 0]\n",
    "p = [M[1, 0] / o, M[0, 1] / o]\n",
    "\n",
    "\n",
    "pqpsi = pi_q_psi(M, p)\n",
    "h = entropy(M)\n",
    "m = n * h / log(n)\n",
    "print('\\\\beta = {}\\n\\omega = {}\\n\\pi = {}\\n\\pi Q \\psi = {}\\nh = {}'.format(b, o, p, pqpsi, h))\n",
    "print('\\\\beta / \\omega = {}'.format(b/o))\n",
    "print('h^2 = {}'.format(h ** 2))\n",
    "print('2 \\pi Q \\psi / \\omega = {}'.format( 2 * pqpsi / o ))\n",
    "s = 0.\n",
    "s -= b / o\n",
    "print(s)\n",
    "s -= 2 * pqpsi / o\n",
    "print(s)\n",
    "s -= h ** 2\n",
    "\n",
    "print(\"This should always be positive: {}\".format(s))\n",
    "\n",
    "s /= h ** 3\n",
    "s *= log(m)\n",
    "print(s)\n",
    "\n",
    "from eigenvalues import compute_lambda\n",
    "\n",
    "print(\"good?\", compute_lambda(M))"
   ]
  },
  {
   "cell_type": "code",
   "execution_count": 10,
   "metadata": {},
   "outputs": [
    {
     "name": "stdout",
     "output_type": "stream",
     "text": [
      "\\beta = -0.1960907173251923\n",
      "\\omega = 0.2\n",
      "\\pi = [0.5, 0.5]\n",
      "\\pi Q \\psi = 0.1354340452073609\n",
      "h = 0.3250829733914482\n",
      "\\beta / \\omega = -0.9804535866259614\n",
      "h^2 = 0.10567893958902502\n",
      "2 \\pi Q \\psi / \\omega = 1.354340452073609\n",
      "0.9804535866259614\n",
      "-0.3738868654476477\n",
      "This should always be positive: -0.47956580503667273\n",
      "-45.56378152782191\n",
      "0.04000000000000001\n",
      "0.18420680743952372\n",
      "0.04000000000000001\n",
      "0.18420680743952372\n",
      "0.2\n",
      "0.4605170185988093\n",
      "5.301898110478399\n",
      "lambda 1.0\n",
      "der_lamb 0.3250829733914483\n",
      "entropy 0.3250829733914482\n",
      "der2_lamb 2.6609398096729144\n",
      "variance_constant_coeff 74.37938348323553\n",
      "good? 74.37938348323553\n"
     ]
    }
   ],
   "source": [
    "M = np.array([[0.9, 0.1],\n",
    " [0.1, 0.9]])\n",
    "\n",
    "n = 500\n",
    "b = beta(M)\n",
    "o = M[0, 1] + M[1, 0]\n",
    "p = [M[1, 0] / o, M[0, 1] / o]\n",
    "\n",
    "\n",
    "pqpsi = pi_q_psi(M, p)\n",
    "h = entropy(M)\n",
    "m = n * h / log(n)\n",
    "print('\\\\beta = {}\\n\\omega = {}\\n\\pi = {}\\n\\pi Q \\psi = {}\\nh = {}'.format(b, o, p, pqpsi, h))\n",
    "print('\\\\beta / \\omega = {}'.format(b/o))\n",
    "print('h^2 = {}'.format(h ** 2))\n",
    "print('2 \\pi Q \\psi / \\omega = {}'.format( 2 * pqpsi / o ))\n",
    "s = 0.\n",
    "s -= b / o\n",
    "print(s)\n",
    "s -= 2 * pqpsi / o\n",
    "print(s)\n",
    "s -= h ** 2\n",
    "\n",
    "print(\"This should always be positive: {}\".format(s))\n",
    "\n",
    "s /= h ** 3\n",
    "s *= log(m)\n",
    "print(s)\n",
    "\n",
    "from eigenvalues import compute_lambda\n",
    "\n",
    "print(\"good?\", compute_lambda(M))"
   ]
  },
  {
   "cell_type": "code",
   "execution_count": null,
   "metadata": {},
   "outputs": [],
   "source": []
  }
 ],
 "metadata": {
  "kernelspec": {
   "display_name": "Python 3",
   "language": "python",
   "name": "python3"
  },
  "language_info": {
   "codemirror_mode": {
    "name": "ipython",
    "version": 3
   },
   "file_extension": ".py",
   "mimetype": "text/x-python",
   "name": "python",
   "nbconvert_exporter": "python",
   "pygments_lexer": "ipython3",
   "version": "3.6.6"
  }
 },
 "nbformat": 4,
 "nbformat_minor": 2
}
