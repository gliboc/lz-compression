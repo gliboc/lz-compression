{
 "cells": [
  {
   "cell_type": "code",
   "execution_count": 17,
   "metadata": {},
   "outputs": [],
   "source": [
    "class Exp():\n",
    "    \n",
    "    n_exp = 0\n",
    "    \n",
    "    def __init__(self, n_exp):\n",
    "        self.n_exp = n_exp"
   ]
  },
  {
   "cell_type": "code",
   "execution_count": 18,
   "metadata": {},
   "outputs": [
    {
     "name": "stdout",
     "output_type": "stream",
     "text": [
      "10\n"
     ]
    }
   ],
   "source": [
    "e = Exp(10)\n",
    "print(e.n_exp)"
   ]
  },
  {
   "cell_type": "code",
   "execution_count": 19,
   "metadata": {},
   "outputs": [
    {
     "name": "stdout",
     "output_type": "stream",
     "text": [
      "<__main__.Exp object at 0x7fb674662be0>\n"
     ]
    },
    {
     "ename": "AttributeError",
     "evalue": "'numpy.ndarray' object has no attribute 'n_exp'",
     "output_type": "error",
     "traceback": [
      "\u001b[0;31m-----------------------------------------------------------------------\u001b[0m",
      "\u001b[0;31mAttributeError\u001b[0m                        Traceback (most recent call last)",
      "\u001b[0;32m<ipython-input-19-4344a144a8f1>\u001b[0m in \u001b[0;36m<module>\u001b[0;34m()\u001b[0m\n\u001b[1;32m      6\u001b[0m \u001b[0;34m\u001b[0m\u001b[0m\n\u001b[1;32m      7\u001b[0m \u001b[0mprint\u001b[0m\u001b[0;34m(\u001b[0m\u001b[0mu\u001b[0m\u001b[0;34m)\u001b[0m\u001b[0;34m\u001b[0m\u001b[0m\n\u001b[0;32m----> 8\u001b[0;31m \u001b[0mprint\u001b[0m\u001b[0;34m(\u001b[0m\u001b[0mu\u001b[0m\u001b[0;34m.\u001b[0m\u001b[0mn_exp\u001b[0m\u001b[0;34m)\u001b[0m\u001b[0;34m\u001b[0m\u001b[0m\n\u001b[0m",
      "\u001b[0;31mAttributeError\u001b[0m: 'numpy.ndarray' object has no attribute 'n_exp'"
     ]
    }
   ],
   "source": [
    "import numpy as np\n",
    "\n",
    "t = Exp(20)\n",
    "np.save(\"test\", t)\n",
    "u = np.load(\"test.npy\")\n",
    "\n",
    "print(u)\n",
    "print(u.n_exp)"
   ]
  },
  {
   "cell_type": "code",
   "execution_count": 23,
   "metadata": {},
   "outputs": [
    {
     "name": "stdout",
     "output_type": "stream",
     "text": [
      "Using pickle over cPickle\n",
      "2\n"
     ]
    }
   ],
   "source": [
    "try:\n",
    "    import cPickle as pickle\n",
    "except ModuleNotFoundError:\n",
    "    print(\"Using pickle over cPickle\")\n",
    "    import pickle\n",
    "\n",
    "with open(\"test-pick.pkl\", \"wb\") as fw:\n",
    "    t = Exp(2)\n",
    "    pickle.dump(t, fw, pickle.HIGHEST_PROTOCOL)\n",
    "    \n",
    "with open(\"test-pick.pkl\", \"rb\") as fr:\n",
    "    u = pickle.load(fr)\n",
    "    print(u.n_exp)"
   ]
  }
 ],
 "metadata": {
  "kernelspec": {
   "display_name": "Python 3",
   "language": "python",
   "name": "python3"
  },
  "language_info": {
   "codemirror_mode": {
    "name": "ipython",
    "version": 3
   },
   "file_extension": ".py",
   "mimetype": "text/x-python",
   "name": "python",
   "nbconvert_exporter": "python",
   "pygments_lexer": "ipython3",
   "version": "3.6.6"
  }
 },
 "nbformat": 4,
 "nbformat_minor": 2
}
