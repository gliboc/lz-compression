{
 "cells": [
  {
   "cell_type": "markdown",
   "metadata": {},
   "source": [
    "Imagine $ \\pi(s) = [\\pi_0^{-s}, \\pi_1^{-s}] $\n",
    "\n",
    "Then $ \\dot{\\pi}(s) = [-\\ln(\\pi_0) \\pi_0^{-s}, \\ln(\\pi_1) \\pi_1^{-s}] $"
   ]
  }
 ],
 "metadata": {
  "kernelspec": {
   "display_name": "Python 3",
   "language": "python",
   "name": "python3"
  },
  "language_info": {
   "codemirror_mode": {
    "name": "ipython",
    "version": 3
   },
   "file_extension": ".py",
   "mimetype": "text/x-python",
   "name": "python",
   "nbconvert_exporter": "python",
   "pygments_lexer": "ipython3",
   "version": "3.6.6"
  }
 },
 "nbformat": 4,
 "nbformat_minor": 2
}
