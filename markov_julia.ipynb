{
 "cells": [
  {
   "cell_type": "markdown",
   "metadata": {},
   "source": [
    "Experimenting with Markov chains and Julia"
   ]
  },
  {
   "cell_type": "code",
   "execution_count": 26,
   "metadata": {},
   "outputs": [
    {
     "name": "stdout",
     "output_type": "stream",
     "text": [
      " 47.447286 seconds (1.50 G allocations: 59.663 GiB, 10.86% gc time)\n"
     ]
    }
   ],
   "source": [
    "M = [0.2 0.8; 0.3 0.7]\n",
    "\n",
    "function word(n)\n",
    "    \n",
    "    srand(1234)\n",
    "    \n",
    "    i = 0\n",
    "    s = 1\n",
    "    w = BitArray(n)\n",
    "    \n",
    "    while i < n\n",
    "        \n",
    "        p = rand(1)[1]\n",
    "        \n",
    "        if p > M[s, 1]\n",
    "            s = (s % 2) + 1\n",
    "        end\n",
    "        \n",
    "        i += 1\n",
    "        w[i] = s-1\n",
    "        \n",
    "    end\n",
    "    w\n",
    "end\n",
    "    \n",
    "word(10)\n",
    "\n",
    "function test()\n",
    "    k = 0\n",
    "    while k < 500\n",
    "        word(1_000_000)\n",
    "        k+=1\n",
    "    end\n",
    "end\n",
    "\n",
    "@time test()"
   ]
  },
  {
   "cell_type": "code",
   "execution_count": null,
   "metadata": {},
   "outputs": [],
   "source": []
  },
  {
   "cell_type": "code",
   "execution_count": null,
   "metadata": {},
   "outputs": [],
   "source": []
  }
 ],
 "metadata": {
  "kernelspec": {
   "display_name": "Julia 0.6.2",
   "language": "julia",
   "name": "julia-0.6"
  },
  "language_info": {
   "file_extension": ".jl",
   "mimetype": "application/julia",
   "name": "julia",
   "version": "0.6.3"
  }
 },
 "nbformat": 4,
 "nbformat_minor": 2
}
