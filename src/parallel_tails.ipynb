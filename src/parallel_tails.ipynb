{
 "cells": [
  {
   "cell_type": "code",
   "execution_count": 1,
   "metadata": {},
   "outputs": [],
   "source": [
    "%load_ext autoreload\n",
    "%autoreload 0\n",
    "\n",
    "import numpy as np\n",
    "from multiprocessing import Process, Queue, Pool\n",
    "import os\n",
    "from stupid_tails import run_experiment\n",
    "from markov import markov_chain, markov_iter_rng, markov_iter"
   ]
  },
  {
   "cell_type": "code",
   "execution_count": 2,
   "metadata": {},
   "outputs": [],
   "source": [
    "def run_experiment_multi(n, M):\n",
    "\n",
    "    exp = dict()\n",
    "\n",
    "    exp[\"M\"] = M\n",
    "    exp[\"n\"] = n\n",
    "\n",
    "    parse = set(\"\")\n",
    "\n",
    "    tail_symbols = \"\"\n",
    "\n",
    "    for k in range(1, n + 1):\n",
    "        seq = \"\"\n",
    "        m_iter = markov_iter(M)\n",
    "\n",
    "        while seq in parse:\n",
    "            seq += next(m_iter)\n",
    "\n",
    "        parse.add(seq)\n",
    "        tail_symbols += next(m_iter)\n",
    "\n",
    "        # print(\"\\tThis tree was {} characters long,\\n\\twith tail symbol {}\".format(len(seq), tail_symbols[-1]))\n",
    "\n",
    "        exp[str(k)] = seq\n",
    "\n",
    "    exp[\"tail_symbols\"] = tail_symbols\n",
    "    \n",
    "    return exp\n",
    "\n",
    "\n",
    "\n",
    "def run_simu(n, M, N):\n",
    "    return [run_experiment_multi(n, M) for _ in range(N)]"
   ]
  },
  {
   "cell_type": "code",
   "execution_count": 11,
   "metadata": {},
   "outputs": [
    {
     "name": "stdout",
     "output_type": "stream",
     "text": [
      "CPU times: user 2min 1s, sys: 47.7 s, total: 2min 49s\n",
      "Wall time: 1min 58s\n"
     ]
    }
   ],
   "source": [
    "%%time\n",
    "\n",
    "M = markov_chain(2)\n",
    "n = 2000\n",
    "n_exp = 500\n",
    "\n",
    "exps = [run_experiment(n, M) for _ in range(n_exp)]"
   ]
  },
  {
   "cell_type": "code",
   "execution_count": 7,
   "metadata": {},
   "outputs": [
    {
     "ename": "TypeError",
     "evalue": "markov_iter() missing 1 required positional argument: 'rng'",
     "output_type": "error",
     "traceback": [
      "\u001b[0;31m-----------------------------------------------------------------------\u001b[0m",
      "\u001b[0;31mRemoteTraceback\u001b[0m                       Traceback (most recent call last)",
      "\u001b[0;31mRemoteTraceback\u001b[0m: \n\"\"\"\nTraceback (most recent call last):\n  File \"/usr/lib/python3.6/multiprocessing/pool.py\", line 119, in worker\n    result = (True, func(*args, **kwds))\n  File \"<ipython-input-5-faca56ceefd5>\", line 38, in run_simu\n    return [run_experiment_multi(n, M) for _ in range(N)]\n  File \"<ipython-input-5-faca56ceefd5>\", line 38, in <listcomp>\n    return [run_experiment_multi(n, M) for _ in range(N)]\n  File \"<ipython-input-4-8f53aade6b77>\", line 14, in run_experiment_multi\n    m_iter = markov_iter(M)\nTypeError: markov_iter() missing 1 required positional argument: 'rng'\n\"\"\"",
      "\nThe above exception was the direct cause of the following exception:\n",
      "\u001b[0;31mTypeError\u001b[0m                             Traceback (most recent call last)",
      "\u001b[0;32m<timed exec>\u001b[0m in \u001b[0;36m<module>\u001b[0;34m()\u001b[0m\n",
      "\u001b[0;32m<timed exec>\u001b[0m in \u001b[0;36m<listcomp>\u001b[0;34m(.0)\u001b[0m\n",
      "\u001b[0;32m/usr/lib/python3.6/multiprocessing/pool.py\u001b[0m in \u001b[0;36mget\u001b[0;34m(self, timeout)\u001b[0m\n\u001b[1;32m    642\u001b[0m             \u001b[0;32mreturn\u001b[0m \u001b[0mself\u001b[0m\u001b[0;34m.\u001b[0m\u001b[0m_value\u001b[0m\u001b[0;34m\u001b[0m\u001b[0m\n\u001b[1;32m    643\u001b[0m         \u001b[0;32melse\u001b[0m\u001b[0;34m:\u001b[0m\u001b[0;34m\u001b[0m\u001b[0m\n\u001b[0;32m--> 644\u001b[0;31m             \u001b[0;32mraise\u001b[0m \u001b[0mself\u001b[0m\u001b[0;34m.\u001b[0m\u001b[0m_value\u001b[0m\u001b[0;34m\u001b[0m\u001b[0m\n\u001b[0m\u001b[1;32m    645\u001b[0m \u001b[0;34m\u001b[0m\u001b[0m\n\u001b[1;32m    646\u001b[0m     \u001b[0;32mdef\u001b[0m \u001b[0m_set\u001b[0m\u001b[0;34m(\u001b[0m\u001b[0mself\u001b[0m\u001b[0;34m,\u001b[0m \u001b[0mi\u001b[0m\u001b[0;34m,\u001b[0m \u001b[0mobj\u001b[0m\u001b[0;34m)\u001b[0m\u001b[0;34m:\u001b[0m\u001b[0;34m\u001b[0m\u001b[0m\n",
      "\u001b[0;31mTypeError\u001b[0m: markov_iter() missing 1 required positional argument: 'rng'"
     ]
    }
   ],
   "source": [
    "%%time\n",
    "\n",
    "M = markov_chain(2)\n",
    "n = 2000\n",
    "n_exp = 500\n",
    "jobs = []\n",
    "q = Queue()\n",
    "\n",
    "d = 7\n",
    "N = n_exp // d\n",
    "pool = Pool()\n",
    "r = sum([pool.apply_async(run_simu, (n, M, N)).get() for _ in range(d)], [])"
   ]
  },
  {
   "cell_type": "code",
   "execution_count": 6,
   "metadata": {},
   "outputs": [],
   "source": [
    "def rng_gen(N, n):\n",
    "    rands = np.random.rand(N*n*(n-1)//2)\n",
    "    for r in rands:\n",
    "        yield r\n",
    "\n",
    "def run_simu_mr(M, n, N):\n",
    "    \n",
    "    rng = rng_gen(N, n)\n",
    "    \n",
    "    exps = []\n",
    "    \n",
    "    for _ in range(N):\n",
    "        exp = dict()\n",
    "        exp[\"M\"] = M\n",
    "        exp[\"n\"] = n\n",
    "        \n",
    "        tail_symbols = \"\"\n",
    "        parse = set(\"\")\n",
    "        \n",
    "        for k in range(1, n+1):\n",
    "            seq = \"\"\n",
    "            m_iter = markov_iter_rng(M, rng)\n",
    "            \n",
    "            while seq in parse:\n",
    "                seq += next(m_iter)\n",
    "            \n",
    "            parse.add(seq)\n",
    "            tail_symbols += next(m_iter)\n",
    "   \n",
    "            exp[str(k)] = seq\n",
    "    \n",
    "        exp[\"tail_symbols\"] = tail_symbols\n",
    "        exps.append(exp)\n",
    "    \n",
    "    return exps\n",
    "\n",
    "def run_simu(n, M, N):\n",
    "    return [run_experiment_multi(n, M) for _ in range(N)]"
   ]
  },
  {
   "cell_type": "code",
   "execution_count": 7,
   "metadata": {},
   "outputs": [
    {
     "name": "stdout",
     "output_type": "stream",
     "text": [
      "CPU times: user 256 ms, sys: 77.6 ms, total: 334 ms\n",
      "Wall time: 24.7 s\n"
     ]
    }
   ],
   "source": [
    "%%time\n",
    "\n",
    "M = markov_chain(2)\n",
    "n = 2000\n",
    "n_exp = 500\n",
    "q = Queue()\n",
    "\n",
    "d = 7\n",
    "N = n_exp // d\n",
    "pool = Pool()\n",
    "r = sum([pool.apply_async(run_simu_mr, (M, n, N)).get() for _ in range(d)], [])"
   ]
  }
 ],
 "metadata": {
  "kernelspec": {
   "display_name": "Python 3",
   "language": "python",
   "name": "python3"
  },
  "language_info": {
   "codemirror_mode": {
    "name": "ipython",
    "version": 3
   },
   "file_extension": ".py",
   "mimetype": "text/x-python",
   "name": "python",
   "nbconvert_exporter": "python",
   "pygments_lexer": "ipython3",
   "version": "3.6.6"
  }
 },
 "nbformat": 4,
 "nbformat_minor": 2
}
