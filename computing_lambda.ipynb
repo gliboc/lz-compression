{
 "cells": [
  {
   "cell_type": "markdown",
   "metadata": {},
   "source": [
    "Computing $ \\lambda(s) $\n",
    "\n",
    "$ M = \\left[ \\begin{array} &{p_{0 0}}^{-s} & {p_{0 1}}^{-s} \\\\ {p_{1 0}}^{-s} & {p_{1 1}}^{-s} \\end{array} \\right] $\n",
    "\n",
    "$ \\chi = (X - {p_{0 0}}^{-s})(X - {p_{1 1}}^{-s}) - {(p_{0 1}\\, p_{1 0})}^{-s} $\n",
    "\n",
    "$ \\Delta = {({p_{0 0}}^{-s} + {p_{1 1}}^{-s})}^2 - 4 \\left[ {(p_{0 0}\\, p_{1 1})}^{-s} - {(p_{0 1} \\, p_{1 0})}^{-s} \\right] $\n",
    "\n",
    "$ {p_{0 0}}^{-s} = {p_{0 0}}^{-\\Re(s)}  \\cos(\\ln (p_{0 0}) \\Im(s)) - i \\, {p_{0 0}}^{-\\Re(s)}  \\sin (\\ln (p_{0 0}) \\Im(s)) ) $\n",
    "\n",
    "\n",
    "\n"
   ]
  },
  {
   "cell_type": "markdown",
   "metadata": {},
   "source": [
    "$ \\begin{array}\n",
    "    &\\Delta &= {p_{0 0}}^{-2s} + {p_{1 1}}^{-s} - 2 (p_{0 0}\\,p_{1 1})^{-s} + 4 {(p_{0 1}\\, p_{1 0})}^{-s} \\\\\n",
    "     &= \\underbrace{{p_{0 0}}^{-2\\Re(s)} \\cos(2\\ln(p_{0 0}) \\Im(s))\n",
    "        + {p_{1 1}}^{-2\\Re(s)} \\cos(2 \\ln (p_{1 1}) \\Im(s))}_{=a_1(cos,\\, s)} \\\\\n",
    "            & \\quad \\underbrace{-2 (p_{0 0} p_{1 1})^{-\\Re(s)} \\cos(\\ln(p_{0 0} p_{1 1})\\Im(s)}_{a_2(cos, \\,s)} \\\\\n",
    "            & \\quad \\underbrace{+4 (p_{0 1} p_{1 0})^{-\\Re(s)} \\cos(\\ln(p_{0 1} p_{1 0}) \\Im(s)}_{a_3(cos,\\, s)} \\\\\n",
    "          & +i \\,[ a_1(sin,\\, s) + a_2(sin,\\, s) + a_3(sin,\\, s) ]\n",
    "     \\end{array} $\n",
    "     \n",
    "$ a_1(s) = {p_{0 0}}^{ $"
   ]
  },
  {
   "cell_type": "code",
   "execution_count": 19,
   "metadata": {},
   "outputs": [
    {
     "name": "stdout",
     "output_type": "stream",
     "text": [
      "1.0\n",
      "1.3862943611198906\n",
      "1.0\n",
      "1.3862943611198906\n",
      "1.0\n",
      "0.6931471805599453\n",
      "2.402265069591007\n",
      "lambda 1.0\n",
      "der_lamb 0.6931471805599453\n",
      "entropy 0.6931471805599453\n",
      "der2_lamb 1.4413590417546043\n",
      "variance_constant_coeff 2.885390081777927\n"
     ]
    },
    {
     "data": {
      "text/plain": [
       "2.885390081777927"
      ]
     },
     "execution_count": 19,
     "metadata": {},
     "output_type": "execute_result"
    }
   ],
   "source": [
    "import numpy as np\n",
    "from math import log, sqrt\n",
    "\n",
    "M = np.array([[0.5, 0.5], [0.5, 0.5]])\n",
    "\n",
    "def compute_lambda(M):\n",
    "    p00 = M[0, 0]\n",
    "    p01 = M[0, 1]\n",
    "    p11 = M[1, 1]\n",
    "    p10 = M[1, 0]\n",
    "\n",
    "    q0 = p00 * p11\n",
    "    q1 = p01 * p10\n",
    "\n",
    "    alpha = p00 ** 2 + p11 ** 2 - 2 * q0 + 4 * q1\n",
    "\n",
    "    der_alpha = - 2 * log(p00) * (p00 ** 2) - 2 * log(p11) * (p11 ** 2) \\\n",
    "                + 2 * q0 * log(q0) \\\n",
    "                - 4 * q1 * log(q1)\n",
    "\n",
    "    der2_alpha = 4 * (log(p00) ** 2) * (p00 ** 2) \\\n",
    "                 + 4 * (log(p11) ** 2) * (p11 ** 2) \\\n",
    "                 - 2 * (log(q0) ** 2) * q0 \\\n",
    "                 + 4 * (log(q1) ** 2) * q1\n",
    "\n",
    "    beta = 0\n",
    "    der_beta = 0\n",
    "    der2_beta = 0\n",
    "\n",
    "    gamma = der_alpha * alpha # beta terms are zero\n",
    "    der_gamma = der2_alpha * alpha + (der_alpha ** 2) # beta terms are zero\n",
    "\n",
    "    kappa = sqrt(alpha**2 + beta**2) # basically alpha\n",
    "    der_kappa = (alpha * der_alpha) / (sqrt(alpha**2))\n",
    "\n",
    "    f = 0.5 * (sqrt(alpha ** 2 + beta ** 2) + alpha)\n",
    "    der_f = 0.5 * ((der_alpha * alpha) / (sqrt(alpha**2)) + der_alpha)\n",
    "    der2_f = 0.5 * ( (der_gamma * kappa + gamma * der_kappa) / (kappa ** 2) + der2_alpha )\n",
    "\n",
    "    x = sqrt(alpha)\n",
    "    der_x = der_f / (2 * x)\n",
    "    der2_x = (der2_f * x + der_f * der_x) / (2 * (x**2))\n",
    "\n",
    "    lamb = 0.5 * (p00 + p11 + x)\n",
    "    der_lamb = 0.5 * (- log(p00) * p00 - log(p11) * p11 + der_x)\n",
    "    der2_lamb = 0.5 * ( (log(p00)**2) * p00 + (log(p11)**2) * p11 + der2_x )\n",
    "\n",
    "    print(alpha)\n",
    "    print(der_alpha)\n",
    "\n",
    "    print(f)\n",
    "    print(der_f)\n",
    "\n",
    "    print(x)\n",
    "    print(der_x)\n",
    "    print(der2_x)\n",
    "\n",
    "    o = M[1, 0] + M[0, 1]\n",
    "    p = [M[1, 0] / o, M[0, 1] / o]\n",
    "\n",
    "    h = 0\n",
    "    n = len(M)\n",
    "\n",
    "    for i in range(n):\n",
    "        for j in range(n):\n",
    "\n",
    "            h -= p[i] * M[i, j] * log(M[i, j])\n",
    "\n",
    "    var_coeff = (der2_lamb - der_lamb ** 2) / (der_lamb**3)\n",
    "    print(\"lambda\", lamb)\n",
    "    print(\"der_lamb\", der_lamb)\n",
    "    print(\"entropy\", h)\n",
    "    print(\"der2_lamb\", der2_lamb)\n",
    "    print(\"variance_constant_coeff\", (var_coeff))\n",
    "    \n",
    "    return var_coeff\n",
    "\n",
    "compute_lambda(M)"
   ]
  },
  {
   "cell_type": "code",
   "execution_count": null,
   "metadata": {},
   "outputs": [],
   "source": []
  }
 ],
 "metadata": {
  "kernelspec": {
   "display_name": "Python 3",
   "language": "python",
   "name": "python3"
  },
  "language_info": {
   "codemirror_mode": {
    "name": "ipython",
    "version": 3
   },
   "file_extension": ".py",
   "mimetype": "text/x-python",
   "name": "python",
   "nbconvert_exporter": "python",
   "pygments_lexer": "ipython3",
   "version": "3.6.6"
  }
 },
 "nbformat": 4,
 "nbformat_minor": 2
}
